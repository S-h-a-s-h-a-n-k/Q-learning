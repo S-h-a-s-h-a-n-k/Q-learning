{
  "nbformat": 4,
  "nbformat_minor": 0,
  "metadata": {
    "colab": {
      "name": "Taxi-v3.ipynb",
      "provenance": []
    },
    "kernelspec": {
      "name": "python3",
      "display_name": "Python 3"
    },
    "language_info": {
      "name": "python"
    }
  },
  "cells": [
    {
      "cell_type": "code",
      "metadata": {
        "id": "KQKIafLAJ4xT"
      },
      "source": [
        "import gym\n",
        "import numpy as np  \n",
        "# Create an environment of Taxi-v3:\n",
        "env = gym.make('Taxi-v3').env "
      ],
      "execution_count": null,
      "outputs": []
    },
    {
      "cell_type": "code",
      "metadata": {
        "colab": {
          "base_uri": "https://localhost:8080/"
        },
        "id": "ohZY54LkJnzM",
        "outputId": "ef201681-cdb1-4a67-e736-f7043409ec1f"
      },
      "source": [
        "Q_table=np.zeros((env.observation_space.n,env.action_space.n))\n",
        "episodes=1000\n",
        "alpha=0.6\n",
        "gamma=0.9\n",
        "epsilon=0.4\n",
        "for i in range (1,episodes+1):\n",
        "  state=env.reset()\n",
        "  epochs=0\n",
        "  reward=0\n",
        "  done=False\n",
        "  while not done :\n",
        "    if np.random.rand()<epsilon :\n",
        "      action = env.action_space.sample()\n",
        "    else :\n",
        "      action = np.argmax(Q_table[state,:])\n",
        "    state_2,r,done,_=env.step(action)\n",
        "    Q_table[state,action]+=alpha*(reward+gamma*np.max(Q_table[state_2,:])-Q_table[state,action])\n",
        "    state=state_2\n",
        "    reward+=r\n",
        "    epochs+=1\n",
        "  epsilon=0.001+0.399*np.exp(-0.005*episodes)\n",
        "  if not i%200 :\n",
        "    print(f\"Finished {i}th episode with reward:{reward} and Timesteps taken: {epochs}\")"
      ],
      "execution_count": null,
      "outputs": [
        {
          "output_type": "stream",
          "text": [
            "Finished 200th episode with reward:-2322 and Timesteps taken: 246\n",
            "Finished 400th episode with reward:8 and Timesteps taken: 13\n",
            "Finished 600th episode with reward:8 and Timesteps taken: 13\n",
            "Finished 800th episode with reward:9 and Timesteps taken: 12\n",
            "Finished 1000th episode with reward:6 and Timesteps taken: 15\n"
          ],
          "name": "stdout"
        }
      ]
    },
    {
      "cell_type": "code",
      "metadata": {
        "colab": {
          "base_uri": "https://localhost:8080/"
        },
        "id": "N85I1hN_KA4V",
        "outputId": "a497e6a2-305d-48e4-cd95-804e75384675"
      },
      "source": [
        "#Illustration of Taxi-v3\n",
        "from IPython.display import clear_output\n",
        "from time import sleep\n",
        "state=env.reset()\n",
        "done=False\n",
        "reward=0\n",
        "env.render()\n",
        "while not done :\n",
        "    clear_output(wait=True)\n",
        "    action=np.argmax(Q_table[state])\n",
        "    state,r,done,_=env.step(action)\n",
        "    reward+=r\n",
        "    env.render()\n",
        "    sleep(1)\n",
        "print(\"Reward:\",reward)"
      ],
      "execution_count": null,
      "outputs": [
        {
          "output_type": "stream",
          "text": [
            "+---------+\n",
            "|R: | : :G|\n",
            "| : | : : |\n",
            "| : : : : |\n",
            "| | : | : |\n",
            "|Y| : |\u001b[35m\u001b[34;1m\u001b[43mB\u001b[0m\u001b[0m\u001b[0m: |\n",
            "+---------+\n",
            "  (Dropoff)\n",
            "Reward: 9\n"
          ],
          "name": "stdout"
        }
      ]
    }
  ]
}